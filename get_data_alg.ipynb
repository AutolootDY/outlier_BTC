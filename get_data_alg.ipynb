{
 "cells": [
  {
   "cell_type": "markdown",
   "metadata": {},
   "source": [
    "### trading view"
   ]
  },
  {
   "cell_type": "code",
   "execution_count": 3,
   "metadata": {},
   "outputs": [
    {
     "name": "stdout",
     "output_type": "stream",
     "text": [
      "Data saved to BTC_1K.csv\n"
     ]
    }
   ],
   "source": [
    "from tvDatafeed import TvDatafeed, Interval\n",
    "import pandas as pd\n",
    "\n",
    "# หากไม่มีบัญชี TradingView\n",
    "tv = TvDatafeed()\n",
    "\n",
    "# ดึงข้อมูลราคาหุ้น TSLA จาก NASDAQ ในกรอบเวลา 1 ชั่วโมง (1H)\n",
    "data = tv.get_hist(symbol='BTCUSDT', exchange='BINANCE', interval=Interval.in_1_hour, n_bars=5000)\n",
    "# data = tv.get_hist(symbol='AMD', exchange='NASDAQ', interval=Interval.in_daily, n_bars=5000)\n",
    "# data = tv.get_hist(symbol='AMD', exchange='NASDAQ', interval=Interval.in_15_minute, n_bars=5000)\n",
    "\n",
    "# ตรวจสอบว่ามีข้อมูลหรือไม่\n",
    "if data is not None and not data.empty:\n",
    "    # แปลง index เป็นคอลัมน์ Date\n",
    "    data.reset_index(inplace=True)\n",
    "    data.rename(columns={'datetime': 'Date', 'close': 'Close', 'high': 'High', 'low': 'Low'}, inplace=True)  # เปลี่ยนชื่อเป็น Date\n",
    "    \n",
    "    # บันทึกข้อมูลลงไฟล์ CSV\n",
    "    filename = \"BTC_1K.csv\"\n",
    "    data.to_csv(filename, index=False)  # index=False เพราะเราเก็บ Date ไว้แล้ว\n",
    "    print(f\"Data saved to {filename}\")\n",
    "else:\n",
    "    print(\"No data retrieved\")\n"
   ]
  },
  {
   "cell_type": "markdown",
   "metadata": {},
   "source": [
    "### MT5"
   ]
  },
  {
   "cell_type": "code",
   "execution_count": 1,
   "metadata": {},
   "outputs": [
    {
     "name": "stdout",
     "output_type": "stream",
     "text": [
      "Data saved to BTC_MT5_4H.csv\n"
     ]
    }
   ],
   "source": [
    "import MetaTrader5 as mt5\n",
    "import pandas as pd\n",
    "from datetime import datetime, timedelta\n",
    "\n",
    "# ตั้งค่าชื่อสินทรัพย์และกรอบเวลา\n",
    "symbol = \"BTCUSD\"\n",
    "timeframe = mt5.TIMEFRAME_H4 # กรอบเวลา 1 วัน\n",
    "\n",
    "# กำหนดช่วงวันที่\n",
    "start_date = datetime(2000, 10, 28)  # วันที่ 5 ก.พ. 2024\n",
    "end_date = datetime(2025, 2, 14)  # วันที่ 18 ก.พ. 2025\n",
    "\n",
    "# เริ่มต้นการเชื่อมต่อกับ MT5\n",
    "if not mt5.initialize():\n",
    "    print(\"Failed to connect to MT5\")\n",
    "    exit()\n",
    "\n",
    "# ดึงข้อมูลราคาตามช่วงวันที่\n",
    "rates = mt5.copy_rates_range(symbol, timeframe, start_date, end_date)\n",
    "\n",
    "# ปิดการเชื่อมต่อกับ MT5\n",
    "mt5.shutdown()\n",
    "\n",
    "# แปลงข้อมูลเป็น DataFrame\n",
    "if rates is not None and len(rates) > 0:\n",
    "    df = pd.DataFrame(rates).rename(columns={'time': 'Date', 'close': 'close', 'high': 'high', 'low': 'low', 'open': 'open','tick_volume':'volume'})\n",
    "    \n",
    "    # แปลง timestamp เป็น datetime และเพิ่มเวลาไทย (UTC+7)\n",
    "    df['Date'] = pd.to_datetime(df['Date'], unit='s') \n",
    "\n",
    "    # ตั้งค่า Date เป็น index เพื่อให้เป็น DatetimeIndex\n",
    "    df.set_index('Date', inplace=True)\n",
    "\n",
    "    # บันทึกลงไฟล์ CSV\n",
    "    filename = f\"BTC_MT5_4H.csv\"\n",
    "    df.to_csv(filename)\n",
    "    \n",
    "    print(f\"Data saved to {filename}\")\n",
    "else:\n",
    "    print(\"No data retrieved\")\n"
   ]
  }
 ],
 "metadata": {
  "kernelspec": {
   "display_name": "Python 3",
   "language": "python",
   "name": "python3"
  },
  "language_info": {
   "codemirror_mode": {
    "name": "ipython",
    "version": 3
   },
   "file_extension": ".py",
   "mimetype": "text/x-python",
   "name": "python",
   "nbconvert_exporter": "python",
   "pygments_lexer": "ipython3",
   "version": "3.11.7"
  }
 },
 "nbformat": 4,
 "nbformat_minor": 2
}
